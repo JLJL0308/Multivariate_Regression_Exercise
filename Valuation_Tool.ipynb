{
 "cells": [
  {
   "cell_type": "code",
   "execution_count": 137,
   "metadata": {},
   "outputs": [],
   "source": [
    "from sklearn.datasets import load_boston\n",
    "from sklearn.linear_model import LinearRegression\n",
    "from sklearn.metrics import mean_squared_error\n",
    "import pandas as pd\n",
    "import numpy as np"
   ]
  },
  {
   "cell_type": "code",
   "execution_count": 138,
   "metadata": {},
   "outputs": [],
   "source": [
    "# Gather Data\n",
    "boston_dataset = load_boston()\n",
    "data = pd.DataFrame(data = boston_dataset.data, columns = boston_dataset.feature_names)\n",
    "features = data.drop([\"INDUS\", \"AGE\"], axis = 1)\n",
    "\n",
    "# Log prices\n",
    "log_prices = np.log(boston_dataset.target)\n",
    "# Covert to 2D array.\n",
    "target = pd.DataFrame(log_prices, columns = [\"PRICE\"])"
   ]
  },
  {
   "cell_type": "code",
   "execution_count": 139,
   "metadata": {},
   "outputs": [],
   "source": [
    "# Create property_stats varible to store\n",
    "CRIME_IDX = 0\n",
    "ZN_IDX = 1\n",
    "CHAS_IDX = 2\n",
    "RM_IDX = 4\n",
    "PTRATIO_IDX = 8\n",
    "\n",
    "# property_stats = np.ndarray(shape = (1, 11))\n",
    "# property_stats[0][CRIME_IDX] = features[\"CRIM\"].mean()\n",
    "# property_stats[0][ZN_IDX] = features[\"ZN\"].mean()\n",
    "# property_stats[0][CHAS_IDX] = features[\"CHAS\"].mean()\n",
    "\n",
    "# Fill the default value using the mean value of every feature, reshape the pandas.series to ndarray.\n",
    "property_stats = features.mean().values.reshape(1, 11)"
   ]
  },
  {
   "cell_type": "code",
   "execution_count": 140,
   "metadata": {},
   "outputs": [],
   "source": [
    "regr = LinearRegression().fit(features, target)\n",
    "fitted_values = regr.predict(features)\n",
    "#print(fitted_values.shape)\n",
    "MSE = mean_squared_error(target, fitted_values)\n",
    "RMSE = np.sqrt(MSE)"
   ]
  },
  {
   "cell_type": "code",
   "execution_count": 141,
   "metadata": {},
   "outputs": [],
   "source": [
    "def get_log_estimate(room_number, pupil_teacher_ratio, beside_river = False, high_confidence = True):\n",
    "    # Configure property values\n",
    "    property_stats[0][RM_IDX] = room_number\n",
    "    property_stats[0][PTRATIO_IDX] = pupil_teacher_ratio\n",
    "    if beside_river:\n",
    "        property_stats[0][CHAS_IDX] = 1\n",
    "    else:\n",
    "        property_stats[0][CHAS_IDX] = 0\n",
    "    # Predict\n",
    "    log_estimate = regr.predict(property_stats)[0][0]\n",
    "    # Calculate the range\n",
    "    if high_confidence:\n",
    "        # 2 standard deviation\n",
    "        upper_bound = log_estimate + 2*RMSE\n",
    "        lower_bound = log_estimate - 2*RMSE\n",
    "        interval = 95\n",
    "    else:\n",
    "        # 1 standard deviation\n",
    "        upper_bound = log_estimate + RMSE\n",
    "        lower_bound = log_estimate - RMSE\n",
    "        interval = 68\n",
    "    return log_estimate, upper_bound, lower_bound, interval"
   ]
  },
  {
   "cell_type": "code",
   "execution_count": 142,
   "metadata": {},
   "outputs": [
    {
     "name": "stdout",
     "output_type": "stream",
     "text": [
      "Today's estimate: 827000.0, Upper Bound: 997000.0, Lower Bound: 685000.0, Confidence: 68%\n"
     ]
    }
   ],
   "source": [
    "# Today's median price from Zillow website\n",
    "ZILLOW_MEDIAN_PRICE = 583.3\n",
    "SCALE_FACTOR = ZILLOW_MEDIAN_PRICE / np.median(boston_dataset.target)\n",
    "\n",
    "log_estimate, upper_bound, lower_bound, confidence = get_log_estimate(9, 15, False, False)\n",
    "# Covert to today's value\n",
    "estimate_today = np.around(np.e**log_estimate * SCALE_FACTOR * 1000, -3)\n",
    "estimate_high = np.around(np.e**upper_bound * SCALE_FACTOR * 1000, -3)\n",
    "estimate_low = np.around(np.e**lower_bound * SCALE_FACTOR * 1000, -3)\n",
    "\n",
    "print(f\"Today's estimate: {estimate_today}, Upper Bound: {estimate_high}, Lower Bound: {estimate_low}, Confidence: {confidence}%\")"
   ]
  },
  {
   "cell_type": "code",
   "execution_count": 143,
   "metadata": {},
   "outputs": [],
   "source": [
    "def get_today_dollar_estimate(room_number, pupil_teacher_ratio, beside_river = False, high_confidence = True):\n",
    "    \"\"\" Estimate today's property price in Boston.\n",
    "    \"\"\"\n",
    "    if room_number < 1 or pupil_teacher_ratio < 1:\n",
    "        return \"Information provided is not valid.\"\n",
    "    log_estimate, upper_bound, lower_bound, confidence = get_log_estimate(room_number, pupil_teacher_ratio, beside_river, high_confidence)\n",
    "    estimate_today = np.around(np.e**log_estimate * SCALE_FACTOR * 1000, -3)\n",
    "    estimate_high = np.around(np.e**upper_bound * SCALE_FACTOR * 1000, -3)\n",
    "    estimate_low = np.around(np.e**lower_bound * SCALE_FACTOR * 1000, -3)\n",
    "    print(f\"Today's estimate: {estimate_today}, Upper Bound: {estimate_high}, Lower Bound: {estimate_low}, Confidence: {confidence}%\")\n",
    "    "
   ]
  },
  {
   "cell_type": "code",
   "execution_count": 144,
   "metadata": {},
   "outputs": [
    {
     "name": "stdout",
     "output_type": "stream",
     "text": [
      "Today's estimate: 369000.0, Upper Bound: 537000.0, Lower Bound: 253000.0, Confidence: 95%\n"
     ]
    }
   ],
   "source": [
    "get_today_dollar_estimate(1, 20, True)"
   ]
  },
  {
   "cell_type": "code",
   "execution_count": 7,
   "metadata": {},
   "outputs": [
    {
     "name": "stdout",
     "output_type": "stream",
     "text": [
      "Today's estimate: 369000.0, Upper Bound: 537000.0, Lower Bound: 253000.0, Confidence: 95%\n"
     ]
    }
   ],
   "source": [
    "# The kernel must be restarted if the package is modified.\n",
    "import boston_property_valuation as valuation\n",
    "valuation.get_today_dollar_estimate(1, 20, True)"
   ]
  },
  {
   "cell_type": "code",
   "execution_count": null,
   "metadata": {},
   "outputs": [],
   "source": []
  }
 ],
 "metadata": {
  "kernelspec": {
   "display_name": "Python 3",
   "language": "python",
   "name": "python3"
  },
  "language_info": {
   "codemirror_mode": {
    "name": "ipython",
    "version": 3
   },
   "file_extension": ".py",
   "mimetype": "text/x-python",
   "name": "python",
   "nbconvert_exporter": "python",
   "pygments_lexer": "ipython3",
   "version": "3.8.3"
  }
 },
 "nbformat": 4,
 "nbformat_minor": 4
}
